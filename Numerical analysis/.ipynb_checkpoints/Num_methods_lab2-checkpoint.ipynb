{
 "cells": [
  {
   "cell_type": "markdown",
   "metadata": {},
   "source": [
    "<h1><center>Лабараторна робота №2</center></h1>\n",
    "<h3><center>Бездушного Вадима(К-24)</center></h3>"
   ]
  },
  {
   "cell_type": "code",
   "execution_count": 68,
   "metadata": {
    "collapsed": true
   },
   "outputs": [],
   "source": [
    "import json\n",
    "import matplotlib\n",
    "import numpy as np\n",
    "import scipy\n",
    "import matplotlib.pyplot as plt\n",
    "import matplotlib.patches as patches\n",
    "np.set_printoptions(precision=7, suppress=True)\n",
    "%matplotlib inline"
   ]
  },
  {
   "cell_type": "markdown",
   "metadata": {},
   "source": [
    "# Прямі методи розв’язання систем лінійних рівнянь"
   ]
  },
  {
   "cell_type": "markdown",
   "metadata": {},
   "source": [
    "## Метод квадратних коренів"
   ]
  },
  {
   "cell_type": "markdown",
   "metadata": {},
   "source": [
    "#### Вхідні дані"
   ]
  },
  {
   "cell_type": "code",
   "execution_count": 69,
   "metadata": {},
   "outputs": [],
   "source": [
    "a = np.matrix([[4,3,2,1],[3,6,4,2],[2,4,6,3],[1,2,3,4]], dtype = float)\n",
    "b = np.matrix([[3,6,4,7]],dtype = float)"
   ]
  },
  {
   "cell_type": "markdown",
   "metadata": {},
   "source": [
    "### Функція знаходження розв’язку для триктуної матриці\n",
    "#### Прямий і зворотній хід методу Гаусса"
   ]
  },
  {
   "cell_type": "code",
   "execution_count": 70,
   "metadata": {
    "collapsed": true
   },
   "outputs": [],
   "source": [
    "def gauss_jordan_elimination(a, up_triangle = False):\n",
    "    EPS = 1e-6 # for float arithmetics\n",
    "    used_rows = [False] * a.shape[0]\n",
    "    rng = list(reversed(range(a.shape[0])) if up_triangle else range(a.shape[0])) # python lol\n",
    "    \n",
    "    for it in rng:        \n",
    "        idx = -1 # find non-zero not used index\n",
    "        for i in rng:\n",
    "            if not used_rows[i] and abs(a[i, it]) > EPS:\n",
    "                idx = i\n",
    "                break\n",
    "        used_rows[idx] = True\n",
    "        \n",
    "        if idx == -1:\n",
    "            continue\n",
    "        \n",
    "        for i in rng:\n",
    "            if not used_rows[i]:\n",
    "                a[i] = a[i] - a[idx] * (a[i, it] / a[idx, it])\n",
    "                \n",
    "        a[it] = a[it] / a[idx, it]\n",
    "    return a"
   ]
  },
  {
   "cell_type": "code",
   "execution_count": 85,
   "metadata": {},
   "outputs": [],
   "source": [
    "def gauss_solve(a, b):\n",
    "    a = np.hstack((a,b.T))\n",
    "    a = gauss_jordan_elimination(a)\n",
    "    a = gauss_jordan_elimination(a, up_triangle = True)\n",
    "    return np.squeeze(np.asarray(a[:,a.shape[0]:])), None"
   ]
  },
  {
   "cell_type": "markdown",
   "metadata": {},
   "source": [
    "Знайдемо матриці $D$ та $S$:\n"
   ]
  },
  {
   "cell_type": "code",
   "execution_count": 72,
   "metadata": {},
   "outputs": [],
   "source": [
    "def getDS(a):\n",
    "    d = np.zeros_like(a)\n",
    "    s = np.zeros_like(a)\n",
    "    \n",
    "    for i in range(0, a.shape[0]):\n",
    "        for j in range(i, a.shape[1]):\n",
    "            if i == j:\n",
    "                value = a[i, i] - sum( s[p, i] * s[p, i] * d[p, p]  for p in range(i))\n",
    "                d[i, i] = np.sign(value)\n",
    "                s[i, i] = np.sqrt(abs(value))\n",
    "            else :\n",
    "                s[i, j] = (a[i, j] - sum( s[p, i] * d[p, p] * s[p, j] for p in range(i)))/(d[i, i] * s[i, i])\n",
    "    return d,s"
   ]
  },
  {
   "cell_type": "markdown",
   "metadata": {},
   "source": [
    "Розв’яжемо наступні рівняння:\n",
    "* $S^TD\\vec{y}=\\vec{b}$\n",
    "* $S\\vec{x}=\\vec{y}$    "
   ]
  },
  {
   "cell_type": "code",
   "execution_count": 73,
   "metadata": {},
   "outputs": [],
   "source": [
    "def getY(St, D, b):\n",
    "    a = np.hstack((np.dot(St, D),b.T)) \n",
    "    a = gauss_jordan_elimination(a)\n",
    "    return a[:,-1].T\n",
    "\n",
    "def getX(S, y):\n",
    "    a = np.hstack((S,y.T))\n",
    "    a = gauss_jordan_elimination(a, True)    \n",
    "    return a[:,-1].T\n",
    "\n",
    "def square_root(a, b):\n",
    "    D,S = getDS(a)\n",
    "    print(\"D\\n\", D)\n",
    "    print(\"S\\n\", S)\n",
    "    y = getY(S.T, D, b)\n",
    "    print(\"y\", y)\n",
    "    x = getX(S, y)\n",
    "    return np.squeeze(np.asarray(x)), None"
   ]
  },
  {
   "cell_type": "markdown",
   "metadata": {},
   "source": [
    "## Визначник матриці $A = S^{T}DS$"
   ]
  },
  {
   "cell_type": "code",
   "execution_count": 74,
   "metadata": {},
   "outputs": [
    {
     "name": "stdout",
     "output_type": "stream",
     "text": [
      "Determinant(my value): 125.0\n",
      "Determinant(real value): 125.0\n"
     ]
    }
   ],
   "source": [
    "def getDet(S, D):\n",
    "    ans = 1\n",
    "    for i in range(S.shape[0]):\n",
    "        ans *= S[i, i] * S[i, i] * D[i, i]\n",
    "    return ans\n",
    "\n",
    "print(\"Determinant(my value):\", getDet(S,D))\n",
    "print(\"Determinant(real value):\", np.linalg.det(a))\n"
   ]
  },
  {
   "cell_type": "markdown",
   "metadata": {},
   "source": [
    "## Обернена матриця"
   ]
  },
  {
   "cell_type": "code",
   "execution_count": 75,
   "metadata": {},
   "outputs": [
    {
     "data": {
      "text/plain": [
       "matrix([[ 0.4, -0.2,  0. ,  0. ],\n",
       "        [-0.2,  0.4, -0.2,  0. ],\n",
       "        [ 0. , -0.2,  0.4, -0.2],\n",
       "        [ 0. ,  0. , -0.2,  0.4]])"
      ]
     },
     "execution_count": 75,
     "metadata": {},
     "output_type": "execute_result"
    }
   ],
   "source": [
    "def getInv(a):\n",
    "    b = np.eye(a.shape[0])\n",
    "    c = np.hstack((a, b))\n",
    "    c = gauss_jordan_elimination(c)\n",
    "    c = gauss_jordan_elimination(c, up_triangle = True)\n",
    "    return c[:,a.shape[0]:]\n",
    "getInv(a)"
   ]
  },
  {
   "cell_type": "markdown",
   "metadata": {},
   "source": [
    "## Ітераційні методи розв’язання систем лінійних рівнянь\n",
    "### Метод Зейделя"
   ]
  },
  {
   "cell_type": "code",
   "execution_count": 76,
   "metadata": {},
   "outputs": [],
   "source": [
    "def seidel(a, b, EPS = 1e-5, num_iterations = 20000):\n",
    "    b = np.squeeze(np.asarray(b))\n",
    "    x = np.zeros_like(b, dtype=float)\n",
    "    \n",
    "    for it in range(num_iterations):\n",
    "        tx = x.copy()\n",
    "        for i in range(a.shape[0]):\n",
    "            x[i] = (b[i] - a[i, :].dot(x)) / a[i, i] + x[i]\n",
    "        if np.allclose(x, tx, atol = EPS):\n",
    "            return x, it\n",
    "    return x, num_iterations"
   ]
  },
  {
   "cell_type": "markdown",
   "metadata": {},
   "source": [
    "Використвоуємо норму Фробеніуса:  \n",
    "$\\|A\\|_{F}=\\sqrt{\\sum_{i=1}^m\\sum_{j=1}^n a^2_{ij}}$  \n",
    " $\\|Ax^{*}-b\\|_{F}$  "
   ]
  },
  {
   "cell_type": "code",
   "execution_count": 77,
   "metadata": {},
   "outputs": [],
   "source": [
    "def norm(a, solution, b):\n",
    "    return np.linalg.norm(np.dot(a, solution) - b)"
   ]
  },
  {
   "cell_type": "markdown",
   "metadata": {},
   "source": [
    "## Результати роботи методів:"
   ]
  },
  {
   "cell_type": "code",
   "execution_count": 86,
   "metadata": {},
   "outputs": [
    {
     "name": "stdout",
     "output_type": "stream",
     "text": [
      "GAUSS_SOLVE:\n",
      "Res: [ 0.  1. -1.  2.]\n",
      "Norm: 0.0\n",
      "--------------------------------------------------------------------------------\n",
      "SQUARE_ROOT:\n",
      "D\n",
      " [[ 1.  0.  0.  0.]\n",
      " [ 0.  1.  0.  0.]\n",
      " [ 0.  0.  1.  0.]\n",
      " [ 0.  0.  0.  1.]]\n",
      "S\n",
      " [[ 2.     1.5    1.     0.5  ]\n",
      " [ 0.     1.936  1.291  0.645]\n",
      " [ 0.     0.     1.826  0.913]\n",
      " [ 0.     0.     0.     1.581]]\n",
      "y [[ 1.5    1.936  0.     3.162]]\n",
      "Res: [ 0.  1. -1.  2.]\n",
      "Norm: 1.33226762955e-15\n",
      "--------------------------------------------------------------------------------\n",
      "SEIDEL:\n",
      "Res: [ 0.  1. -1.  2.]\n",
      "Iterations made: 19\n",
      "Norm: 1.33639054166e-05\n",
      "--------------------------------------------------------------------------------\n"
     ]
    }
   ],
   "source": [
    "def evaluate(method, a, b, **kwargs):\n",
    "    print(method.__name__.upper() + \":\")\n",
    "    res, iter_count = method(a, b, **kwargs)    \n",
    "    print(\"Res:\", res)\n",
    "    if iter_count is not None:\n",
    "        print(\"Iterations made:\", iter_count)\n",
    "    print(\"Norm:\", norm(a, res, b))\n",
    "    print('-'*80)\n",
    "evaluate(gauss_solve, a, b)\n",
    "evaluate(square_root, a, b)\n",
    "evaluate(seidel, a, b, EPS = 1e-5)"
   ]
  }
 ],
 "metadata": {
  "kernelspec": {
   "display_name": "Python 3",
   "language": "python",
   "name": "python3"
  },
  "language_info": {
   "codemirror_mode": {
    "name": "ipython",
    "version": 3
   },
   "file_extension": ".py",
   "mimetype": "text/x-python",
   "name": "python",
   "nbconvert_exporter": "python",
   "pygments_lexer": "ipython3",
   "version": "3.6.3"
  }
 },
 "nbformat": 4,
 "nbformat_minor": 2
}
